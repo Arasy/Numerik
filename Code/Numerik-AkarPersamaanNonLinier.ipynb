{
 "cells": [
  {
   "cell_type": "markdown",
   "metadata": {},
   "source": [
    "# Bisection"
   ]
  },
  {
   "cell_type": "code",
   "execution_count": 1,
   "metadata": {},
   "outputs": [],
   "source": [
    "#fungsi yang akan dicari akarnya\n",
    "def f(x):\n",
    "    return 16*x**3-22*x+9\n",
    "\n",
    "#galat perhitungannya\n",
    "e1 = e2 = 10**-8\n",
    "\n",
    "#batas iterasinya\n",
    "n = 100\n",
    "\n",
    "#tebakan awal\n",
    "a = -2\n",
    "b = -1"
   ]
  },
  {
   "cell_type": "code",
   "execution_count": 2,
   "metadata": {},
   "outputs": [
    {
     "name": "stdout",
     "output_type": "stream",
     "text": [
      "Akan dicari akar diantara -2.00 dan -1.00\n"
     ]
    }
   ],
   "source": [
    "#pastikan tebakan awal a<b dan f(a)*f(b)<0\n",
    "if a>b:\n",
    "    a,b = b,a\n",
    "\n",
    "if f(a)*f(b)>0:\n",
    "    print(\"Di dalam selang %.2f dan %.2f belum tentu ada akarnya\" %(a,b))\n",
    "elif abs(f(a))<10**-16: #gak bisa pakai f(a)==0, karena float\n",
    "    print(\"f(%.2f)=0, berarti akarnya adalah %.2f\" %(a,a))\n",
    "elif abs(f(b))<10**-16: #gak bisa pakai f(b)==0, karena float\n",
    "    print(\"f(%.2f)=0, berarti akarnya adalah %.2f\" %(b,b))\n",
    "else:\n",
    "    print(\"Akan dicari akar diantara %.2f dan %.2f\" %(a,b))"
   ]
  },
  {
   "cell_type": "code",
   "execution_count": 3,
   "metadata": {},
   "outputs": [
    {
     "name": "stdout",
     "output_type": "stream",
     "text": [
      "i\ta\tf(a)\tb\tf(b)\tc\tf(c)\t(b-a)\n",
      "0\t-2.00\t-75.00\t-1.00\t15.00\t-1.50\t-12.00\t1.00000000\n",
      "1\t-1.50\t-12.00\t-1.00\t15.00\t-1.25\t5.25\t0.50000000\n",
      "2\t-1.50\t-12.00\t-1.25\t5.25\t-1.38\t-2.34\t0.25000000\n",
      "3\t-1.38\t-2.34\t-1.25\t5.25\t-1.31\t1.70\t0.12500000\n",
      "4\t-1.38\t-2.34\t-1.31\t1.70\t-1.34\t-0.26\t0.06250000\n",
      "5\t-1.34\t-0.26\t-1.31\t1.70\t-1.33\t0.74\t0.03125000\n",
      "6\t-1.34\t-0.26\t-1.33\t0.74\t-1.34\t0.24\t0.01562500\n",
      "7\t-1.34\t-0.26\t-1.34\t0.24\t-1.34\t-0.01\t0.00781250\n",
      "8\t-1.34\t-0.01\t-1.34\t0.24\t-1.34\t0.12\t0.00390625\n",
      "9\t-1.34\t-0.01\t-1.34\t0.12\t-1.34\t0.05\t0.00195312\n",
      "10\t-1.34\t-0.01\t-1.34\t0.05\t-1.34\t0.02\t0.00097656\n",
      "11\t-1.34\t-0.01\t-1.34\t0.02\t-1.34\t0.01\t0.00048828\n",
      "12\t-1.34\t-0.01\t-1.34\t0.01\t-1.34\t0.00\t0.00024414\n",
      "13\t-1.34\t-0.01\t-1.34\t0.00\t-1.34\t-0.00\t0.00012207\n",
      "14\t-1.34\t-0.00\t-1.34\t0.00\t-1.34\t-0.00\t0.00006104\n",
      "15\t-1.34\t-0.00\t-1.34\t0.00\t-1.34\t-0.00\t0.00003052\n",
      "16\t-1.34\t-0.00\t-1.34\t0.00\t-1.34\t-0.00\t0.00001526\n",
      "17\t-1.34\t-0.00\t-1.34\t0.00\t-1.34\t-0.00\t0.00000763\n",
      "18\t-1.34\t-0.00\t-1.34\t0.00\t-1.34\t0.00\t0.00000381\n",
      "19\t-1.34\t-0.00\t-1.34\t0.00\t-1.34\t0.00\t0.00000191\n",
      "20\t-1.34\t-0.00\t-1.34\t0.00\t-1.34\t-0.00\t0.00000095\n",
      "21\t-1.34\t-0.00\t-1.34\t0.00\t-1.34\t-0.00\t0.00000048\n",
      "22\t-1.34\t-0.00\t-1.34\t0.00\t-1.34\t0.00\t0.00000024\n",
      "23\t-1.34\t-0.00\t-1.34\t0.00\t-1.34\t0.00\t0.00000012\n",
      "24\t-1.34\t-0.00\t-1.34\t0.00\t-1.34\t-0.00\t0.00000006\n",
      "25\t-1.34\t-0.00\t-1.34\t0.00\t-1.34\t0.00\t0.00000003\n",
      "26\t-1.34\t-0.00\t-1.34\t0.00\t-1.34\t-0.00\t0.00000001\n",
      "27\t-1.34\t-0.00\t-1.34\t0.00\t-1.34\t-0.00\t0.00000001\n",
      "Akarnya adalah -1.34\n"
     ]
    }
   ],
   "source": [
    "print(\"i\\ta\\tf(a)\\tb\\tf(b)\\tc\\tf(c)\\t(b-a)\")\n",
    "for i in range(n):\n",
    "    c = a + (b-a)/2\n",
    "    fc = f(c)\n",
    "    print(\"%d\\t%.2f\\t%.2f\\t%.2f\\t%.2f\\t%.2f\\t%.2f\\t%.8f\" %(i,a,f(a),b,f(b),c,fc,(b-a)))\n",
    "    if(abs(fc)<e1 or (b-a)<e2):\n",
    "        print(\"Akarnya adalah %.2f\" %c)\n",
    "        break\n",
    "    elif(fc*f(a)<0):\n",
    "        #f(a) dan f(c) berbeda tanda, akarnya ada di antara selang [a,c]\n",
    "        b = c\n",
    "    elif(fc*f(b)<0):\n",
    "        #f(b) dan f(c) berbeda tanda, akarnya ada di antara selang [c,b]\n",
    "        a = c\n"
   ]
  },
  {
   "cell_type": "markdown",
   "metadata": {},
   "source": [
    "# Regula Falsi"
   ]
  },
  {
   "cell_type": "code",
   "execution_count": 4,
   "metadata": {},
   "outputs": [],
   "source": [
    "#fungsi yang akan dicari akarnya\n",
    "def f(x):\n",
    "    return 16*x**3-22*x+9\n",
    "\n",
    "#galat perhitungannya\n",
    "e1 = e2 = 10**-8 \n",
    "\n",
    "#batas iterasinya\n",
    "n = 100\n",
    "\n",
    "#tebakan awal\n",
    "a = -2\n",
    "b = -1"
   ]
  },
  {
   "cell_type": "code",
   "execution_count": 5,
   "metadata": {},
   "outputs": [
    {
     "name": "stdout",
     "output_type": "stream",
     "text": [
      "Akan dicari akar diantara -2.00 dan -1.00\n"
     ]
    }
   ],
   "source": [
    "#pastikan tebakan awal a<b dan f(a)*f(b)<0\n",
    "if a>b:\n",
    "    a,b = b,a\n",
    "\n",
    "if f(a)*f(b)>0:\n",
    "    print(\"Di dalam selang %.2f dan %.2f belum tentu ada akarnya\" %(a,b))\n",
    "elif abs(f(a))<10**-16: #gak bisa pakai f(a)==0, karena float\n",
    "    print(\"f(%.2f)=0, berarti akarnya adalah %.2f\" %(a,a))\n",
    "elif abs(f(b))<10**-16: #gak bisa pakai f(b)==0, karena float\n",
    "    print(\"f(%.2f)=0, berarti akarnya adalah %.2f\" %(b,b))\n",
    "else:\n",
    "    print(\"Akan dicari akar diantara %.2f dan %.2f\" %(a,b))"
   ]
  },
  {
   "cell_type": "code",
   "execution_count": 6,
   "metadata": {},
   "outputs": [
    {
     "name": "stdout",
     "output_type": "stream",
     "text": [
      "i\ta\tf(a)\tb\tf(b)\tc\tf(c)\t(b-a)\n",
      "0\t-2.00\t-75.00\t-1.17\t9.26\t-1.17\t9.26\t0.83333333\n",
      "1\t-2.00\t-75.00\t-1.26\t4.81\t-1.26\t4.81\t0.74175824\n",
      "2\t-2.00\t-75.00\t-1.30\t2.27\t-1.30\t2.27\t0.69706170\n",
      "3\t-2.00\t-75.00\t-1.32\t1.03\t-1.32\t1.03\t0.67655094\n",
      "4\t-2.00\t-75.00\t-1.33\t0.45\t-1.33\t0.45\t0.66741032\n",
      "5\t-2.00\t-75.00\t-1.34\t0.20\t-1.34\t0.20\t0.66339044\n",
      "6\t-2.00\t-75.00\t-1.34\t0.09\t-1.34\t0.09\t0.66163292\n",
      "7\t-2.00\t-75.00\t-1.34\t0.04\t-1.34\t0.04\t0.66086649\n",
      "8\t-2.00\t-75.00\t-1.34\t0.02\t-1.34\t0.02\t0.66053264\n",
      "9\t-2.00\t-75.00\t-1.34\t0.01\t-1.34\t0.01\t0.66038729\n",
      "10\t-2.00\t-75.00\t-1.34\t0.00\t-1.34\t0.00\t0.66032402\n",
      "11\t-2.00\t-75.00\t-1.34\t0.00\t-1.34\t0.00\t0.66029649\n",
      "12\t-2.00\t-75.00\t-1.34\t0.00\t-1.34\t0.00\t0.66028450\n",
      "13\t-2.00\t-75.00\t-1.34\t0.00\t-1.34\t0.00\t0.66027928\n",
      "14\t-2.00\t-75.00\t-1.34\t0.00\t-1.34\t0.00\t0.66027701\n",
      "15\t-2.00\t-75.00\t-1.34\t0.00\t-1.34\t0.00\t0.66027603\n",
      "16\t-2.00\t-75.00\t-1.34\t0.00\t-1.34\t0.00\t0.66027560\n",
      "17\t-2.00\t-75.00\t-1.34\t0.00\t-1.34\t0.00\t0.66027541\n",
      "18\t-2.00\t-75.00\t-1.34\t0.00\t-1.34\t0.00\t0.66027533\n",
      "19\t-2.00\t-75.00\t-1.34\t0.00\t-1.34\t0.00\t0.66027529\n",
      "20\t-2.00\t-75.00\t-1.34\t0.00\t-1.34\t0.00\t0.66027528\n",
      "21\t-2.00\t-75.00\t-1.34\t0.00\t-1.34\t0.00\t0.66027527\n",
      "22\t-2.00\t-75.00\t-1.34\t0.00\t-1.34\t0.00\t0.66027527\n",
      "23\t-2.00\t-75.00\t-1.34\t0.00\t-1.34\t0.00\t0.66027527\n",
      "24\t-2.00\t-75.00\t-1.34\t0.00\t-1.34\t0.00\t0.66027526\n",
      "25\t-2.00\t-75.00\t-1.34\t0.00\t-1.34\t0.00\t0.66027526\n",
      "Akarnya adalah -1.34\n"
     ]
    }
   ],
   "source": [
    "print(\"i\\ta\\tf(a)\\tb\\tf(b)\\tc\\tf(c)\\t(b-a)\")\n",
    "for i in range(n):\n",
    "    fa = f(a)\n",
    "    fb = f(b)\n",
    "    #pilih salah satu untuk menghitung c, sama saja\n",
    "    #c = a - fa*(b-a)/(fb-fa)\n",
    "    c = b - fb*(b-a)/(fb-fa)\n",
    "    fc = f(c)\n",
    "    if(abs(fc)<e1 or (b-a)<e2):\n",
    "        print(\"Akarnya adalah %.2f\" %c)\n",
    "        break\n",
    "    elif(fc*f(a)<0):\n",
    "        #f(a) dan f(c) berbeda tanda, akarnya ada di antara selang [a,c]\n",
    "        b = c\n",
    "    elif(fc*f(b)<0):\n",
    "        #f(b) dan f(c) berbeda tanda, akarnya ada di antara selang [c,b]\n",
    "        a = c\n",
    "    print(\"%d\\t%.2f\\t%.2f\\t%.2f\\t%.2f\\t%.2f\\t%.2f\\t%.8f\" %(i,a,f(a),b,f(b),c,fc,(b-a)))"
   ]
  },
  {
   "cell_type": "markdown",
   "metadata": {},
   "source": [
    "# Titik Tetap"
   ]
  },
  {
   "cell_type": "code",
   "execution_count": 8,
   "metadata": {},
   "outputs": [],
   "source": [
    "#fungsi yang akan dicari akarnya\n",
    "def f(x):\n",
    "    return 16*x**3-22*x+9\n",
    "\n",
    "#fungsi iteratornya\n",
    "def g(x):\n",
    "    return -9/(16*x**2-22)\n",
    "\n",
    "#galat perhitungannya\n",
    "eps = 10**-8 \n",
    "\n",
    "#batas iterasinya\n",
    "n = 100\n",
    "\n",
    "#tebakan awal\n",
    "x = -2"
   ]
  },
  {
   "cell_type": "code",
   "execution_count": 9,
   "metadata": {},
   "outputs": [
    {
     "name": "stdout",
     "output_type": "stream",
     "text": [
      "Akan dicari akar dari fungsi f dengan tebakan awal -2.00\n"
     ]
    }
   ],
   "source": [
    "#periksa kondisi awal bahwa akarnya belum ketemu\n",
    "if abs(f(x))<eps:\n",
    "    print(\"f(%.2f)=0, berarti akarnya adalah %.2f\" %(x,x))\n",
    "else :\n",
    "    print(\"Akan dicari akar dari fungsi f dengan tebakan awal %.2f\" %x)"
   ]
  },
  {
   "cell_type": "code",
   "execution_count": 10,
   "metadata": {},
   "outputs": [
    {
     "name": "stdout",
     "output_type": "stream",
     "text": [
      "i\tx\tg(x)\terror\n",
      "0\t-2.00\t-0.21\t-\n",
      "1\t-0.21\t0.42\t1.78571429\n",
      "2\t0.42\t0.47\t0.63751028\n",
      "3\t0.47\t0.49\t0.04713997\n",
      "4\t0.49\t0.49\t0.01717305\n",
      "5\t0.49\t0.50\t0.00705178\n",
      "6\t0.50\t0.50\t0.00303030\n",
      "7\t0.50\t0.50\t0.00132715\n",
      "8\t0.50\t0.50\t0.00058603\n",
      "9\t0.50\t0.50\t0.00025971\n",
      "10\t0.50\t0.50\t0.00011528\n",
      "11\t0.50\t0.50\t0.00005121\n",
      "12\t0.50\t0.50\t0.00002275\n",
      "13\t0.50\t0.50\t0.00001011\n",
      "14\t0.50\t0.50\t0.00000449\n",
      "15\t0.50\t0.50\t0.00000200\n",
      "16\t0.50\t0.50\t0.00000089\n",
      "17\t0.50\t0.50\t0.00000039\n",
      "18\t0.50\t0.50\t0.00000018\n",
      "19\t0.50\t0.50\t0.00000008\n",
      "20\t0.50\t0.50\t0.00000003\n",
      "21\t0.50\t0.50\t0.00000002\n",
      "Akarnya adalah 0.50\n"
     ]
    }
   ],
   "source": [
    "err = 1\n",
    "i = 0\n",
    "print(\"i\\tx\\tg(x)\\terror\")\n",
    "print(\"0\\t%.2f\\t%.2f\\t-\" %(x,g(x)))\n",
    "\n",
    "while(err > eps):\n",
    "    x_prev = x\n",
    "    x = g(x)\n",
    "    err = abs(x-x_prev)\n",
    "    i=i+1\n",
    "    if(err<eps):\n",
    "        print(\"Akarnya adalah %.2f\" %x)\n",
    "        break\n",
    "    print(\"%d\\t%.2f\\t%.2f\\t%.8f\" %(i,x,g(x),err))\n",
    "    if(i>=n):\n",
    "        print(\"Iterasi dihentikan karena lewat dari %d\" %n)\n",
    "        break"
   ]
  },
  {
   "cell_type": "markdown",
   "metadata": {},
   "source": [
    "# Newton-Raphson"
   ]
  },
  {
   "cell_type": "code",
   "execution_count": 11,
   "metadata": {},
   "outputs": [],
   "source": [
    "#fungsi yang akan dicari akarnya\n",
    "def f(x):\n",
    "    return 16*x**3-22*x+9\n",
    "\n",
    "#turunan fungsinya terhadap x\n",
    "def f1(x):\n",
    "    return 48*x**2-22\n",
    "\n",
    "#galat perhitungannya\n",
    "eps = 10**-8 \n",
    "\n",
    "#batas iterasinya\n",
    "n = 100\n",
    "\n",
    "#tebakan awal\n",
    "x = -2"
   ]
  },
  {
   "cell_type": "code",
   "execution_count": 12,
   "metadata": {},
   "outputs": [
    {
     "name": "stdout",
     "output_type": "stream",
     "text": [
      "Akan dicari akar dari fungsi f dengan tebakan awal -2.00\n"
     ]
    }
   ],
   "source": [
    "#periksa kondisi awal bahwa akarnya belum ketemu\n",
    "if abs(f(x))<eps:\n",
    "    print(\"f(%.2f)=0, berarti akarnya adalah %.2f\" %(x,x))\n",
    "else :\n",
    "    print(\"Akan dicari akar dari fungsi f dengan tebakan awal %.2f\" %x)"
   ]
  },
  {
   "cell_type": "code",
   "execution_count": 13,
   "metadata": {},
   "outputs": [
    {
     "name": "stdout",
     "output_type": "stream",
     "text": [
      "i\tx\tf(x)\tf'(x)\tx_next\terror\n",
      "0\t-2.00\t-75.00\t170.00\t-1.56\t0.44117647\n",
      "1\t-1.56\t-17.31\t94.64\t-1.38\t0.18292289\n",
      "2\t-1.38\t-2.41\t68.87\t-1.34\t0.03493190\n",
      "3\t-1.34\t-0.08\t64.31\t-1.34\t0.00124245\n",
      "4\t-1.34\t-0.00\t64.15\t-1.34\t0.00000155\n",
      "Akarnya adalah -1.34\n"
     ]
    }
   ],
   "source": [
    "err = 1\n",
    "i = 0\n",
    "print(\"i\\tx\\tf(x)\\tf'(x)\\tx_next\\terror\")\n",
    "#print(\"0\\t%.2f\\t%.2f\\t%.2f\\t%.2f\\t-\" %(x,f(x),f1(x),x-(f(x)/f1(x))))\n",
    "\n",
    "while(err > eps):\n",
    "    x_prev = x\n",
    "    fx = f(x)\n",
    "    f1x = f1(x)\n",
    "    x = x-(fx/f1x)\n",
    "    err = abs(x-x_prev)\n",
    "    if(err<eps):\n",
    "        print(\"Akarnya adalah %.2f\" %x)\n",
    "        break\n",
    "    print(\"%d\\t%.2f\\t%.2f\\t%.2f\\t%.2f\\t%.8f\" %(i,x_prev,fx,f1x,x,err))\n",
    "    if(i>=n):\n",
    "        print(\"Iterasi dihentikan karena lewat dari %d\" %n)\n",
    "        break\n",
    "    i=i+1\n",
    " "
   ]
  },
  {
   "cell_type": "code",
   "execution_count": null,
   "metadata": {},
   "outputs": [],
   "source": []
  }
 ],
 "metadata": {
  "kernelspec": {
   "display_name": "Python 3",
   "language": "python",
   "name": "python3"
  },
  "language_info": {
   "codemirror_mode": {
    "name": "ipython",
    "version": 3
   },
   "file_extension": ".py",
   "mimetype": "text/x-python",
   "name": "python",
   "nbconvert_exporter": "python",
   "pygments_lexer": "ipython3",
   "version": "3.8.5"
  }
 },
 "nbformat": 4,
 "nbformat_minor": 4
}
